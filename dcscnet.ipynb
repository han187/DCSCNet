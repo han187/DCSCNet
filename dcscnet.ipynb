{
 "cells": [
  {
   "cell_type": "code",
   "execution_count": 1,
   "metadata": {
    "execution": {
     "iopub.execute_input": "2021-11-28T05:31:34.106296Z",
     "iopub.status.busy": "2021-11-28T05:31:34.105989Z",
     "iopub.status.idle": "2021-11-28T05:31:38.916899Z",
     "shell.execute_reply": "2021-11-28T05:31:38.915711Z",
     "shell.execute_reply.started": "2021-11-28T05:31:34.106266Z"
    }
   },
   "outputs": [],
   "source": [
    "import math\n",
    "import torch\n",
    "import itertools\n",
    "import torchvision\n",
    "\n",
    "import numpy as np\n",
    "import pandas as pd\n",
    "import torch.nn as nn\n",
    "import matplotlib.pyplot as plt\n",
    "import torch.utils.data as Data\n",
    "import torch.nn.functional as F\n",
    "import torchvision.transforms as transforms\n",
    "\n",
    "from torch.autograd import Variable\n",
    "from sklearn.metrics import confusion_matrix\n",
    "\n",
    "import Models as models\n",
    "\n",
    "%matplotlib inline"
   ]
  },
  {
   "cell_type": "markdown",
   "metadata": {},
   "source": [
    "### Data Preparation"
   ]
  },
  {
   "cell_type": "code",
   "execution_count": 2,
   "metadata": {},
   "outputs": [
    {
     "name": "stdout",
     "output_type": "stream",
     "text": [
      "==> Preparing data..\n",
      "==> Data already loaded\n"
     ]
    }
   ],
   "source": [
    "def to_tensor(data,test_size=945,filters=1,height=5100):\n",
    "    \"\"\"\n",
    "    This function transform the initial data into tensor form.\n",
    "    \"\"\"\n",
    "    data_size = data.shape[0]\n",
    "    dimensions = data.shape[1]\n",
    "    \n",
    "    train_data = data.iloc[test_size:, :dimensions-1].to_numpy()\n",
    "    test_data = data.iloc[:test_size,:dimensions-1].to_numpy()\n",
    "    train_labels = torch.from_numpy(data.iloc[test_size:, dimensions-1].to_numpy())\n",
    "    test_labels = torch.from_numpy(data.iloc[:test_size,dimensions-1].to_numpy())\n",
    "    \n",
    "    train_data = torch.from_numpy(train_data.reshape(data_size-test_size,filters,height)).type(torch.FloatTensor)\n",
    "    test_data = torch.from_numpy(test_data.reshape(test_size,filters,height)).type(torch.FloatTensor)\n",
    "    \n",
    "    train_ds = torch.utils.data.TensorDataset(train_data, train_labels)\n",
    "    test_ds = torch.utils.data.TensorDataset(test_data, test_labels)\n",
    "\n",
    "    train_loader = torch.utils.data.DataLoader(dataset=train_ds, batch_size=BATCH_SIZE, shuffle=True)\n",
    "    test_loader = torch.utils.data.DataLoader(dataset=test_ds, batch_size=BATCH_SIZE, shuffle=True)\n",
    "    \n",
    "    return train_loader, test_loader\n",
    "\n",
    "# hyper paramters\n",
    "EPOCH = 1200\n",
    "BATCH_SIZE = 32\n",
    "cudaopt = True\n",
    "\n",
    "# data preparation\n",
    "print('==> Preparing data..')\n",
    "data = pd.read_csv(\"E:/Scientific research/D-paper/code/shiyusupp5100.csv\")\n",
    "train_loader, test_loader = to_tensor(data,height=5100,test_size=945)\n",
    "print('==> Data already loaded')\n",
    "\n",
    "# model training\n",
    "def train_model(model,train_loader,test_loader,optimizer,scheduler,EPOCH):\n",
    "    torch.cuda.set_device(0)\n",
    "    \n",
    "    # record test accuracy\n",
    "    acc_train = np.zeros((EPOCH,))\n",
    "    acc_test = np.zeros((EPOCH,))\n",
    "    loss_train = np.zeros((EPOCH,))\n",
    "    loss_test = np.zeros((EPOCH,))\n",
    "    outm_temp = torch.zeros((0,7))\n",
    "    pred_all_temp = torch.zeros((0,1))\n",
    "    labels_by = torch.zeros((0,1))\n",
    "    \n",
    "    # training and testing\n",
    "    current_acc = 0\n",
    "    for epoch in range(EPOCH):\n",
    "        \n",
    "        # training\n",
    "        model.train()\n",
    "        correct = 0\n",
    "        train_loss = 0\n",
    "        for step, (x, y) in enumerate(train_loader):\n",
    "            b_x = Variable(x)\n",
    "            b_y = Variable(y)\n",
    "            if cudaopt:\n",
    "                b_y, b_x = b_y.cuda(), b_x.cuda()\n",
    "            scores,outplot = model(b_x)\n",
    "            loss = F.nll_loss(scores, b_y)\n",
    "            optimizer.zero_grad()           \n",
    "            loss.backward()                 \n",
    "            optimizer.step() \n",
    "            model.zero_grad()\n",
    "            \n",
    "            # compute training accuracy\n",
    "            pred = scores.data.max(1, keepdim=True)[1]\n",
    "            correct += pred.eq(b_y.data.view_as(pred)).long().cpu().sum()\n",
    "            train_loss += F.nll_loss(scores,b_y,reduction='sum').data.item()\n",
    "        scheduler.step()\n",
    "\n",
    "        acc_train[epoch] = 100 * float(correct) / float(len(train_loader.dataset))\n",
    "        loss_train[epoch] = train_loss/len(train_loader.dataset)\n",
    "    \n",
    "        # testing\n",
    "        model.eval()\n",
    "        with torch.no_grad():\n",
    "            correct = 0\n",
    "            test_loss = 0\n",
    "            for step, (x, y) in enumerate(test_loader):\n",
    "                b_x = Variable(x)\n",
    "                b_y = Variable(y)  # batch label\n",
    "                if cudaopt:\n",
    "                    b_y, b_x = b_y.cuda(), b_x.cuda()\n",
    "                scores,outplotm = model(b_x)\n",
    "                outm_temp = torch.cat((outm_temp, outplotm.cpu()), dim=0)\n",
    "                test_loss += F.nll_loss(scores, b_y, reduction='sum').data.item()\n",
    "                pred = scores.data.max(1, keepdim=True)[1]\n",
    "                pred_all_temp = torch.cat((pred_all_temp,pred.cpu()), dim=0)\n",
    "                labels_by = torch.cat((labels_by,b_y.data.view_as(pred).cpu()), dim=0)\n",
    "                correct += pred.eq(b_y.data.view_as(pred)).long().cpu().sum()\n",
    "                test_loss += F.nll_loss(scores,b_y,reduction='sum').data.item() \n",
    "        \n",
    "        outplotte = outm_temp\n",
    "        y_predict = pred_all_temp\n",
    "        y_act = labels_by\n",
    "        outm_temp = torch.zeros((0,7))\n",
    "        pred_all_temp = torch.zeros((0,1))\n",
    "        labels_by = torch.zeros((0,1))\n",
    "        acc_test[epoch] = 100 * float(correct) / float(len(test_loader.dataset))\n",
    "        loss_test[epoch] = test_loss/len(test_loader.dataset)\n",
    "\n",
    "#         print('Epoch: ', epoch, \n",
    "#               ' | train acc: ', round(acc_train[epoch],2), '%', \n",
    "#               ' | test acc: ', round(acc_test[epoch],2), '%',\n",
    "#               ' | train loss: ', round(Loss_train[epoch],4), \n",
    "#               ' | test loss: ', round(Loss_test[epoch],4))\n",
    "\n",
    "        if acc_test[epoch] > 98 and acc_test[epoch] > current_acc:\n",
    "            num = epoch\n",
    "            outplotf = outplotte\n",
    "            ylabel=y_act\n",
    "            current_acc = acc_test[epoch]\n",
    "            torch.save(model.state_dict(), 'C:/Users/Han/Desktop/cx/dcscmodel_3_3.pkl')\n",
    "            cm = confusion_matrix(y_act, y_predict)\n",
    "            \n",
    "    return model,acc_train,acc_test,cm,current_acc"
   ]
  },
  {
   "cell_type": "markdown",
   "metadata": {},
   "source": [
    "### Model - DCSCNet"
   ]
  },
  {
   "cell_type": "code",
   "execution_count": 3,
   "metadata": {
    "scrolled": true
   },
   "outputs": [
    {
     "name": "stderr",
     "output_type": "stream",
     "text": [
      "D:\\Anaconda3\\envs\\pytorch\\lib\\site-packages\\torch\\nn\\functional.py:652: UserWarning: Named tensors and all their associated APIs are an experimental feature and subject to change. Please do not use them for anything important until they are released as stable. (Triggered internally at  ..\\c10/core/TensorImpl.h:1156.)\n",
      "  return torch.max_pool1d(input, kernel_size, stride, padding, dilation, ceil_mode)\n"
     ]
    }
   ],
   "source": [
    "model = models.DCSCNet(32,3,1,7)\n",
    "optimizer = torch.optim.Adam(model.parameters(), lr=1e-5)\n",
    "scheduler = torch.optim.lr_scheduler.StepLR(optimizer,step_size=150,gamma=0.75)\n",
    "\n",
    "model,acc_train,acc_test,cm,current_acc = train_model(model.cuda(),train_loader,test_loader,optimizer,scheduler,EPOCH)"
   ]
  },
  {
   "cell_type": "markdown",
   "metadata": {},
   "source": [
    "### Results\n",
    "#### Accuracy plot"
   ]
  },
  {
   "cell_type": "code",
   "execution_count": 4,
   "metadata": {},
   "outputs": [
    {
     "name": "stdout",
     "output_type": "stream",
     "text": [
      "98.94179894179894\n"
     ]
    },
    {
     "data": {
      "image/png": "[encoded data removed]",
      "text/plain": [
       "<Figure size 432x288 with 1 Axes>"
      ]
     },
     "metadata": {
      "needs_background": "light"
     },
     "output_type": "display_data"
    }
   ],
   "source": [
    "print(current_acc)\n",
    "fig,ax = plt.subplots()\n",
    "ax.plot(acc_train[:])\n",
    "ax.plot(acc_test[:])\n",
    "\n",
    "ax.set(xlabel='epoch',ylabel='accuracy(%)', title='accuracyTracking')\n",
    "\n",
    "plt.show()"
   ]
  },
  {
   "cell_type": "markdown",
   "metadata": {},
   "source": [
    "#### Confusion matrix"
   ]
  },
  {
   "cell_type": "code",
   "execution_count": 5,
   "metadata": {},
   "outputs": [],
   "source": [
    "def plot_confusion_matrix(cm, classes, normalize=False, title=None, cmap=plt.cm.Blues):\n",
    "    \"\"\"\n",
    "    This function prints and plots the confusion matrix.\n",
    "    Normalization can be applied by setting `normalize=True`.\n",
    "    \"\"\"\n",
    "    if not title:\n",
    "        if normalize:\n",
    "            title = 'Normalized confusion matrix'\n",
    "        else:\n",
    "            title = 'Confusion matrix, without normalization'\n",
    "\n",
    "    plt.imshow(cm, interpolation = 'nearest', cmap = cmap)\n",
    "    plt.title(title)\n",
    "    plt.colorbar()\n",
    "    tick_marks = np.arange(len(classes))\n",
    "    plt.xticks(tick_marks, classes, rotation = 45)\n",
    "    plt.yticks(tick_marks, classes)\n",
    "    \n",
    "    if normalize:\n",
    "        cm = cm.astype('float') / cm.sum(axis=1)[:, np.newaxis]\n",
    "        cm = np.round(cm, 2)\n",
    "        print(\"Normalized confusion matrix\")\n",
    "    else:\n",
    "        print('Confusion matrix, without normalization')\n",
    "\n",
    "    print(cm)\n",
    "\n",
    "    thresh = cm.max() / 2.\n",
    "    for i, j in itertools.product(range(cm.shape[0]), range(cm.shape[1])):\n",
    "        plt.text(j, i, cm[i,j],\n",
    "        horizontalalignment = 'center',\n",
    "        color = \"white\" if cm[i,j] > thresh else \"black\")\n",
    "\n",
    "    fig.tight_layout()\n",
    "    plt.ylabel('True Label')\n",
    "    plt.xlabel('Predicted label')"
   ]
  },
  {
   "cell_type": "code",
   "execution_count": 6,
   "metadata": {},
   "outputs": [
    {
     "name": "stdout",
     "output_type": "stream",
     "text": [
      "Confusion matrix, without normalization\n",
      "[[135   0   0   0   0   0   0]\n",
      " [  0 133   0   0   0   2   0]\n",
      " [  0   0 132   3   0   0   0]\n",
      " [  0   0   1 134   0   0   0]\n",
      " [  0   0   1   0 132   2   0]\n",
      " [  0   0   1   0   0 134   0]\n",
      " [  0   0   0   0   0   0 135]]\n"
     ]
    },
    {
     "data": {
      "image/png": "[encoded data removed]",
      "text/plain": [
       "<Figure size 432x288 with 2 Axes>"
      ]
     },
     "metadata": {
      "needs_background": "light"
     },
     "output_type": "display_data"
    }
   ],
   "source": [
    "fig = plt.gcf()\n",
    "cm_labels = ['R1','R2','R3','R4','R5','R6','R7']\n",
    "plot_confusion_matrix(cm, classes=cm_labels, title='Confusion matrix')"
   ]
  }
 ],
 "metadata": {
  "kernelspec": {
   "display_name": "Python 3",
   "language": "python",
   "name": "python3"
  },
  "language_info": {
   "codemirror_mode": {
    "name": "ipython",
    "version": 3
   },
   "file_extension": ".py",
   "mimetype": "text/x-python",
   "name": "python",
   "nbconvert_exporter": "python",
   "pygments_lexer": "ipython3",
   "version": "3.7.10"
  }
 },
 "nbformat": 4,
 "nbformat_minor": 4
}
